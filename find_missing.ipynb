{
 "cells": [
  {
   "cell_type": "code",
   "execution_count": null,
   "metadata": {},
   "outputs": [],
   "source": [
    "from nuscenes import NuScenes\n",
    "\n",
    "nusc = NuScenes(version='v1.0-trainval', dataroot='../nuscenes', verbose=True)\n"
   ]
  },
  {
   "cell_type": "code",
   "execution_count": null,
   "metadata": {},
   "outputs": [],
   "source": [
    "from matplotlib.patches import Rectangle\n",
    "Rectangle(xy=(0,0), width=10, height=10, angle=0.0, rotation_point='xy')"
   ]
  },
  {
   "cell_type": "code",
   "execution_count": null,
   "metadata": {},
   "outputs": [],
   "source": [
    "nusc.render_sample('fd8420396768425eabec9bdddf7e64b6')"
   ]
  },
  {
   "cell_type": "code",
   "execution_count": null,
   "metadata": {},
   "outputs": [],
   "source": [
    "# import quaternion to euler angle from scipy\n",
    "angles = []\n",
    "from scipy.spatial.transform import Rotation as R\n",
    "anns = nusc.get('sample', \"2f92c83f32aa410b93d58ea9948aba74\")['anns']\n",
    "count = 0\n",
    "for ann in anns:\n",
    "    entry = nusc.get('sample_annotation', ann)\n",
    "    # if entry['category_name'] != 'vehicle.car' or entry['num_lidar_pts'] == 0 or entry['num_radar_pts'] == 0:\n",
    "    #     continue\n",
    "    # convert quaternion to euler angle\n",
    "    r = R.from_quat(entry['rotation'], scalar_first=True)\n",
    "    angles.append(r.as_euler('xyz', degrees=False)[-1])\n",
    "    print(r.as_euler('xyz', degrees=False))\n",
    "    count += 1\n",
    "print(count)\n"
   ]
  },
  {
   "cell_type": "code",
   "execution_count": null,
   "metadata": {},
   "outputs": [],
   "source": [
    "nusc.get_box(anns[0])\n"
   ]
  },
  {
   "cell_type": "code",
   "execution_count": null,
   "metadata": {},
   "outputs": [],
   "source": [
    "# Loop through all sample_data and verify if LIDAR_TOP file exists\n",
    "import os\n",
    "from tqdm import tqdm\n",
    "count = 0\n",
    "for sample in tqdm(nusc.sample):\n",
    "    lidar_token = sample['data']['LIDAR_TOP']\n",
    "    lidar_path = nusc.get_sample_data_path(lidar_token)\n",
    "    # try to open the file\n",
    "    if not os.path.exists(lidar_path):\n",
    "        count += 1\n",
    "        print(f\"File {lidar_path} does not exist\")\n",
    "        continue\n",
    "print(f\"{count} files do not exist\")"
   ]
  },
  {
   "cell_type": "code",
   "execution_count": null,
   "metadata": {},
   "outputs": [],
   "source": [
    "import pickle\n",
    "import json\n",
    "\n",
    "# Load the Pickle file\n",
    "with open('/home/vxm240030/CenterPoint/work_dirs/nusc_centerpoint_pp_02voxel_two_pfn_10sweep/train/version_12/prediction.pkl', 'rb') as f:\n",
    "    data = pickle.load(f)\n",
    "\n",
    "# Convert the data to JSON format and save to a JSON file\n",
    "x = {}\n",
    "x['results'] = data\n",
    "with open('/home/vxm240030/CenterPoint/work_dirs/nusc_centerpoint_pp_02voxel_two_pfn_10sweep/train/version_12/prediction.json', 'w') as f:\n",
    "    json.dump(x, f)\n",
    "\n",
    "# x['results'][0]\n"
   ]
  },
  {
   "cell_type": "code",
   "execution_count": 1,
   "metadata": {},
   "outputs": [
    {
     "name": "stdout",
     "output_type": "stream",
     "text": [
      "======\n",
      "Loading NuScenes tables for version v1.0-trainval...\n",
      "23 category,\n",
      "8 attribute,\n",
      "4 visibility,\n",
      "64386 instance,\n",
      "12 sensor,\n",
      "10200 calibrated_sensor,\n",
      "2631083 ego_pose,\n",
      "68 log,\n",
      "850 scene,\n",
      "34149 sample,\n",
      "2631083 sample_data,\n",
      "1166187 sample_annotation,\n",
      "4 map,\n",
      "Done loading in 17.430 seconds.\n",
      "======\n",
      "Reverse indexing ...\n",
      "Done reverse indexing in 4.3 seconds.\n",
      "======\n"
     ]
    }
   ],
   "source": [
    "from nuscenes import NuScenes\n",
    "from nuscenes.eval.detection.evaluate import DetectionEval, DetectionConfig\n",
    "from nuscenes.eval.common.config import config_factory\n",
    "import json\n",
    "cfg = config_factory('detection_cvpr_2019')\n",
    "# with open('cfg.json') as f:\n",
    "#     cfg = DetectionConfig.deserialize(json.load(f))\n",
    "nusc = NuScenes(version='v1.0-trainval', dataroot='data/nuScenes', verbose=True)"
   ]
  },
  {
   "cell_type": "code",
   "execution_count": 5,
   "metadata": {},
   "outputs": [
    {
     "name": "stdout",
     "output_type": "stream",
     "text": [
      "Initializing nuScenes detection evaluation\n",
      "Loaded results from ./work_dirs/nusc_onestage_custom_test/train/version_3/predictions.json. Found detections for 6019 samples.\n",
      "Loading annotations for val split from nuScenes version: v1.0-trainval\n"
     ]
    },
    {
     "name": "stderr",
     "output_type": "stream",
     "text": [
      "100%|██████████| 6019/6019 [00:04<00:00, 1246.98it/s]\n"
     ]
    },
    {
     "name": "stdout",
     "output_type": "stream",
     "text": [
      "Loaded ground truth annotations for 6019 samples.\n",
      "Filtering predictions\n",
      "=> Original number of boxes: 59170\n",
      "=> After distance based filtering: 0\n",
      "=> After LIDAR and RADAR points based filtering: 0\n",
      "=> After bike rack filtering: 0\n",
      "Filtering ground truth annotations\n",
      "=> Original number of boxes: 187528\n",
      "=> After distance based filtering: 134565\n",
      "=> After LIDAR and RADAR points based filtering: 121871\n",
      "=> After bike rack filtering: 121861\n"
     ]
    }
   ],
   "source": [
    "eval = DetectionEval(nusc, cfg, './work_dirs/nusc_onestage_custom_test/train/version_3/predictions.json', 'val', \n",
    "                     './work_dirs/nusc_onestage_custom_test/train/version_3/nusclogs')"
   ]
  },
  {
   "cell_type": "code",
   "execution_count": null,
   "metadata": {},
   "outputs": [],
   "source": [
    "eval.main(plot_examples=5)"
   ]
  },
  {
   "cell_type": "code",
   "execution_count": null,
   "metadata": {},
   "outputs": [],
   "source": []
  }
 ],
 "metadata": {
  "kernelspec": {
   "display_name": "cvcp",
   "language": "python",
   "name": "python3"
  },
  "language_info": {
   "codemirror_mode": {
    "name": "ipython",
    "version": 3
   },
   "file_extension": ".py",
   "mimetype": "text/x-python",
   "name": "python",
   "nbconvert_exporter": "python",
   "pygments_lexer": "ipython3",
   "version": "3.11.9"
  }
 },
 "nbformat": 4,
 "nbformat_minor": 2
}
